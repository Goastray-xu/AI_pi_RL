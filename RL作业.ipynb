{
 "cells": [
  {
   "cell_type": "code",
   "execution_count": 63,
   "id": "640981f5",
   "metadata": {},
   "outputs": [],
   "source": [
    "import gym\n",
    "import numpy as np\n",
    "import time\n",
    "from tqdm import tqdm\n",
    "from IPython.display import clear_output\n",
    "from gym.envs.toy_text.taxi import MAP as taxi_map\n",
    "import imageio"
   ]
  },
  {
   "cell_type": "code",
   "execution_count": 2,
   "id": "8e762fdf",
   "metadata": {},
   "outputs": [],
   "source": [
    "action_names = [\n",
    "    'South (↓)',\n",
    "    'North (↑)',\n",
    "    'East (→)',\n",
    "    'West (←)',\n",
    "    'Pickup',\n",
    "    'Drop off',\n",
    "]"
   ]
  },
  {
   "cell_type": "code",
   "execution_count": 61,
   "id": "628f48bf",
   "metadata": {},
   "outputs": [],
   "source": [
    "def play(env_name, policy=None, sleep_time=0.1, env_seed=None, recording = False):\n",
    "    env = gym.make(env_name) \n",
    "    #这里原来把环境make放在外面的，但是一关环境还得重新打开，就放里面了，让每次运行都重新打开这个环境，窗口开关看着舒服\n",
    "    \n",
    "    if env_seed is not None:\n",
    "        env.seed(env_seed)\n",
    "    \n",
    "    #没有策略的话就直接随便选\n",
    "    if policy is None:\n",
    "        policy=lambda s: env.action_space.sample()\n",
    "        \n",
    "    states = []\n",
    "    rewards = []\n",
    "    actions = []\n",
    "    #gif用来将结果保存\n",
    "    gif= []\n",
    "    state = env.reset()\n",
    "    states.append(state)\n",
    "    max_steps = env.spec.max_episode_steps\n",
    "    total_reward = 0\n",
    "    current_step = 0\n",
    "    is_done = False\n",
    "    \n",
    "    while not is_done:\n",
    "        #将env渲染的结果以array的格式保存，并存储到gif列表中\n",
    "        picture = env.render(mode = 'rgb_array')\n",
    "        gif.append(picture)\n",
    "        \n",
    "        action = policy(state)\n",
    "        state, reward, is_done, info = env.step(action)\n",
    "        \n",
    "        states.append(state)\n",
    "        rewards.append(reward)\n",
    "        actions.append(action)\n",
    "        total_reward += reward\n",
    "        current_step +=1\n",
    "        \n",
    "        clear_output(wait=True)\n",
    "        print('Step: {:03d}/{}, Reward: {}\\n'.format(\n",
    "            current_step,\n",
    "            max_steps,\n",
    "            total_reward,\n",
    "        ))\n",
    "        \n",
    "    picture = env.render(mode = 'rgb_array')\n",
    "    gif.append(picture)\n",
    "    \n",
    "    #如果需要记录，则生成相应gif\n",
    "    if recording == True:\n",
    "         imageio.mimsave(\"taxi.gif\", gif, fps=5)\n",
    "            \n",
    "    if current_step < max_steps:\n",
    "        print('\\nResult: Done with {} steps and total reward is {}.'.format(\n",
    "            current_step,\n",
    "            total_reward,\n",
    "        ))\n",
    "    else:\n",
    "        print('\\nResult:Unsolved')\n",
    "                        \n",
    "    env.close()    \n",
    "    return states, rewards, actions"
   ]
  },
  {
   "cell_type": "code",
   "execution_count": 5,
   "id": "23ddd9d9",
   "metadata": {
    "scrolled": true
   },
   "outputs": [
    {
     "name": "stdout",
     "output_type": "stream",
     "text": [
      "Step: 200/200, Reward: -713\n",
      "\n",
      "\n",
      "Result:Unsolved\n"
     ]
    }
   ],
   "source": [
    "states, rewards, actions = play('Taxi-v3', sleep_time=0.01, env_seed=1)"
   ]
  },
  {
   "cell_type": "code",
   "execution_count": 6,
   "id": "c53d8844",
   "metadata": {},
   "outputs": [],
   "source": [
    "def Q_learning(env_name, learning_rate = 0.1, discount_factor = 0.99, epsilon = 0.1, training_episodes = 100000):#脑子抽了，在这里加了个seed，后面错了\n",
    "    env = gym.make(env_name)\n",
    "    q_table_shape = [env.observation_space.n, env.action_space.n]\n",
    "    q_table = np.zeros(q_table_shape)\n",
    "    rng = np.random.default_rng()\n",
    "    for i in tqdm(range(training_episodes)):\n",
    "        state = env.reset()\n",
    "        done = False\n",
    "        while not done:\n",
    "            #epsilon贪心策略，不过直接0.1也不是特别的好，后续改进让ε随时间越来越小\n",
    "            if rng.random() < epsilon:\n",
    "                action = env.action_space.sample()\n",
    "            else:\n",
    "                action = np.argmax(q_table[state])\n",
    "                \n",
    "            next_state, reward, done, info = env.step(action)\n",
    "            #更新\n",
    "            q_table[state, action] = (1 - learning_rate) * q_table[state][action] + learning_rate * (reward + discount_factor * np.max(q_table[next_state]))\n",
    "            \n",
    "            state = next_state\n",
    "    return q_table"
   ]
  },
  {
   "cell_type": "code",
   "execution_count": 7,
   "id": "9c35ceb2",
   "metadata": {},
   "outputs": [
    {
     "name": "stderr",
     "output_type": "stream",
     "text": [
      "100%|██████████| 100000/100000 [00:58<00:00, 1717.69it/s]\n"
     ]
    }
   ],
   "source": [
    "q_table = Q_learning('Taxi-v3')#训练"
   ]
  },
  {
   "cell_type": "code",
   "execution_count": 62,
   "id": "fa52f184",
   "metadata": {},
   "outputs": [
    {
     "name": "stdout",
     "output_type": "stream",
     "text": [
      "Step: 011/200, Reward: 10\n",
      "\n",
      "\n",
      "Result: Done with 11 steps and total reward is 10.\n"
     ]
    },
    {
     "data": {
      "text/plain": [
       "([392, 372, 472, 476, 376, 276, 256, 236, 216, 116, 16, 0],\n",
       " [-1, -1, -1, -1, -1, -1, -1, -1, -1, -1, 20],\n",
       " [3, 0, 4, 1, 1, 3, 3, 3, 1, 1, 5])"
      ]
     },
     "execution_count": 62,
     "metadata": {},
     "output_type": "execute_result"
    }
   ],
   "source": [
    "#检验结果，并保存为gif\n",
    "play(\n",
    "    'Taxi-v3',\n",
    "    policy=lambda s: np.argmax(q_table[s]),\n",
    "    sleep_time=0.5,\n",
    "    recording = True\n",
    ")"
   ]
  },
  {
   "cell_type": "markdown",
   "id": "b4adecca",
   "metadata": {},
   "source": [
    "env = gym.make('Taxi-v3')  \n",
    "state = env.reset()  \n",
    "scene = env.render(mode = 'rgb_array')  \n",
    "print(scene)  \n",
    "看了看这啥格式的"
   ]
  },
  {
   "cell_type": "markdown",
   "id": "60dc4b7c",
   "metadata": {},
   "source": [
    "def checkPic(Carray):  \n",
    "    rows = Carray.shape[0]  \n",
    "    cols = Carray.shape[1]  \n",
    "    image = Image.new(\"RGB\",(rows,cols))  \n",
    "    for i in range(rows):  \n",
    "        for j in range(cols):  \n",
    "            image.putpixel((i,j),(Carray[i,j,0],Carray[i,j,1],Carray[i,j,2]))  \n",
    "    image = image.rotate(270, expand=True)  \n",
    "    #image.show()  \n",
    "一开始用这个把array转为图片的"
   ]
  },
  {
   "cell_type": "code",
   "execution_count": null,
   "id": "bdb09da0",
   "metadata": {},
   "outputs": [],
   "source": []
  }
 ],
 "metadata": {
  "kernelspec": {
   "display_name": "Python 3 (ipykernel)",
   "language": "python",
   "name": "python3"
  },
  "language_info": {
   "codemirror_mode": {
    "name": "ipython",
    "version": 3
   },
   "file_extension": ".py",
   "mimetype": "text/x-python",
   "name": "python",
   "nbconvert_exporter": "python",
   "pygments_lexer": "ipython3",
   "version": "3.10.9"
  }
 },
 "nbformat": 4,
 "nbformat_minor": 5
}
